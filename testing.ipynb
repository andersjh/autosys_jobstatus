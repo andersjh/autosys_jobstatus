{
 "cells": [
  {
   "cell_type": "code",
   "execution_count": 2,
   "metadata": {},
   "outputs": [],
   "source": [
    "###Setting up the environment\n",
    "import sys\n",
    "import os\n",
    "import json\n",
    "\n",
    "# sys.path.append(r'\\\\houdata04\\it services\\data center\\autosys\\ncc\\python\\py_est_config')\n",
    "# import est_config as est\n",
    "\n",
    "from sqlalchemy import create_engine, exc\n",
    "import pandas as pd\n",
    "# import cx_Oracle\n",
    "\n",
    "# est.est_info(\"Libraries loaded and application starting\")\n"
   ]
  },
  {
   "cell_type": "code",
   "execution_count": 10,
   "metadata": {},
   "outputs": [
    {
     "data": {
      "text/plain": [
       "'\\n        select instance, job_group, job_name, machine, owner, joid, box_joid, run_num, ntry,\\n        status_epoc, status_date_string, \\n        last_start, last_end,\\n        status_text, exit_code, event_text,    \\n        incident, sysid, incident_state, incident_name, assignment_group, assigned_to, \\n        job_type, box_name, max_box, std_out, std_err, job_order, depth, lineage, parent_joid,     \\n        disp_status, bootstrap, glyph, has_condition\\n         from entsched.est_cur_status '"
      ]
     },
     "execution_count": 10,
     "metadata": {},
     "output_type": "execute_result"
    }
   ],
   "source": [
    "class JobStatus:\n",
    "    \n",
    "    def __init__(self):\n",
    "        \n",
    "        self.estcc_base_sql = \"\"\"\n",
    "        select instance, job_group, job_name, machine, owner, joid, box_joid, run_num, ntry,\n",
    "        status_epoc, status_date_string, \n",
    "        last_start, last_end,\n",
    "        status_text, exit_code, event_text,    \n",
    "        incident, sysid, incident_state, incident_name, assignment_group, assigned_to, \n",
    "        job_type, box_name, max_box, std_out, std_err, job_order, depth, lineage, parent_joid,     \n",
    "        disp_status, bootstrap, glyph, has_condition\n",
    "        \"\"\"\n",
    "        \n",
    "        self.estcc_fail_sql = self.estcc_base_sql + \" from entsched.est_cur_failures \" \n",
    "        self.estcc_status_sql = self.estcc_base_sql + \" from entsched.est_cur_status \"\n",
    "        \n",
    "        self.env_\n",
    "        \n",
    "        \n",
    "        def job_status_by_job_name(req_job_name):\n",
    "    \n",
    "            base_sql = \"\"\"\n",
    "            select joid, job_name, run_machine, status, status_text, exit_code, status_time, status_timestr,\n",
    "            last_start, last_end from entsched.est_jobst where job_name = '{}' \n",
    "            \"\"\"\n",
    "\n",
    "            column_mapping = {}\n",
    "    \n",
    "        \n",
    "j = JobStatus()\n",
    "j.status_sql"
   ]
  },
  {
   "cell_type": "code",
   "execution_count": 6,
   "metadata": {},
   "outputs": [
    {
     "data": {
      "text/html": [
       "<div>\n",
       "<style scoped>\n",
       "    .dataframe tbody tr th:only-of-type {\n",
       "        vertical-align: middle;\n",
       "    }\n",
       "\n",
       "    .dataframe tbody tr th {\n",
       "        vertical-align: top;\n",
       "    }\n",
       "\n",
       "    .dataframe thead th {\n",
       "        text-align: right;\n",
       "    }\n",
       "</style>\n",
       "<table border=\"1\" class=\"dataframe\">\n",
       "  <thead>\n",
       "    <tr style=\"text-align: right;\">\n",
       "      <th></th>\n",
       "      <th>JOID</th>\n",
       "      <th>JOB_NAME</th>\n",
       "      <th>RUN_MACHINE</th>\n",
       "      <th>STATUS</th>\n",
       "      <th>STATUS_TEXT</th>\n",
       "      <th>EXIT_CODE</th>\n",
       "      <th>STATUS_TIME</th>\n",
       "      <th>STATUS_TIMESTR</th>\n",
       "      <th>LAST_START</th>\n",
       "      <th>LAST_END</th>\n",
       "    </tr>\n",
       "  </thead>\n",
       "  <tbody>\n",
       "    <tr>\n",
       "      <th>0</th>\n",
       "      <td>80288</td>\n",
       "      <td>PNC-EST-DATAMART-UPDATE-JOB-WID</td>\n",
       "      <td>ushouasysw72v</td>\n",
       "      <td>4</td>\n",
       "      <td>SUCCESS</td>\n",
       "      <td>0</td>\n",
       "      <td>1603368340</td>\n",
       "      <td>2020/10/22 07:05:40</td>\n",
       "      <td>1603368183</td>\n",
       "      <td>1603368339</td>\n",
       "    </tr>\n",
       "  </tbody>\n",
       "</table>\n",
       "</div>"
      ],
      "text/plain": [
       "    JOID                         JOB_NAME    RUN_MACHINE  STATUS STATUS_TEXT  \\\n",
       "0  80288  PNC-EST-DATAMART-UPDATE-JOB-WID  ushouasysw72v       4     SUCCESS   \n",
       "\n",
       "   EXIT_CODE  STATUS_TIME       STATUS_TIMESTR  LAST_START    LAST_END  \n",
       "0          0   1603368340  2020/10/22 07:05:40  1603368183  1603368339  "
      ]
     },
     "execution_count": 6,
     "metadata": {},
     "output_type": "execute_result"
    }
   ],
   "source": [
    "base_sql = \"\"\"\n",
    "select joid, job_name, run_machine, status, status_text, exit_code, status_time, status_timestr,\n",
    "last_start, last_end from est_jobst where job_name = '{}' \n",
    "\"\"\"\n",
    "\n",
    "# db_str = est._sqlalchemydbs['RPD']['primary']\n",
    "# conn_str = db_str['read']\n",
    "conn_str = \"sqlite:///estrprd.sqlite\"\n",
    "\n",
    "engine = create_engine(conn_str, max_identifier_length=128)\n",
    "conn = engine.connect()  \n",
    "jobs_df = pd.read_sql(base_sql.format('PNC-EST-DATAMART-UPDATE-JOB-WID'), conn)      \n",
    "\n",
    "conn.close()  \n",
    "\n",
    "col_mapping = {\n",
    "    'job_name': 'jobName',\n",
    "    'run_machine': 'runMachine',\n",
    "    'status_code': 'statusCode',\n",
    "    'status_text': 'statusText',\n",
    "    'exit_code': 'exitCode',\n",
    "    'status_time': 'statusEpoc',\n",
    "    'status_timestr': 'statusDate',\n",
    "    'last_start': 'lastStart',\n",
    "    'last_end': 'lastEnd'\n",
    "}\n",
    "\n",
    "# jobs_df.rename(columns=col_mapping, inplace=True)\n",
    "\n",
    "jobs_df\n"
   ]
  },
  {
   "cell_type": "code",
   "execution_count": 7,
   "metadata": {},
   "outputs": [
    {
     "data": {
      "text/plain": [
       "[{'JOID': 80288,\n",
       "  'JOB_NAME': 'PNC-EST-DATAMART-UPDATE-JOB-WID',\n",
       "  'RUN_MACHINE': 'ushouasysw72v',\n",
       "  'STATUS': 4,\n",
       "  'STATUS_TEXT': 'SUCCESS',\n",
       "  'EXIT_CODE': 0,\n",
       "  'STATUS_TIME': 1603368340,\n",
       "  'STATUS_TIMESTR': '2020/10/22 07:05:40',\n",
       "  'LAST_START': 1603368183,\n",
       "  'LAST_END': 1603368339}]"
      ]
     },
     "execution_count": 7,
     "metadata": {},
     "output_type": "execute_result"
    }
   ],
   "source": [
    "jobs_df.to_dict(orient=\"records\")"
   ]
  },
  {
   "cell_type": "code",
   "execution_count": 8,
   "metadata": {},
   "outputs": [
    {
     "data": {
      "text/html": [
       "<div>\n",
       "<style scoped>\n",
       "    .dataframe tbody tr th:only-of-type {\n",
       "        vertical-align: middle;\n",
       "    }\n",
       "\n",
       "    .dataframe tbody tr th {\n",
       "        vertical-align: top;\n",
       "    }\n",
       "\n",
       "    .dataframe thead th {\n",
       "        text-align: right;\n",
       "    }\n",
       "</style>\n",
       "<table border=\"1\" class=\"dataframe\">\n",
       "  <thead>\n",
       "    <tr style=\"text-align: right;\">\n",
       "      <th></th>\n",
       "      <th>JOID</th>\n",
       "      <th>JOBName</th>\n",
       "      <th>RUNMachine</th>\n",
       "      <th>STATUS</th>\n",
       "      <th>STATUSText</th>\n",
       "      <th>EXITCode</th>\n",
       "      <th>STATUSTime</th>\n",
       "      <th>STATUSTimestr</th>\n",
       "      <th>LASTStart</th>\n",
       "      <th>LASTEnd</th>\n",
       "    </tr>\n",
       "  </thead>\n",
       "  <tbody>\n",
       "    <tr>\n",
       "      <th>0</th>\n",
       "      <td>80288</td>\n",
       "      <td>PNC-EST-DATAMART-UPDATE-JOB-WID</td>\n",
       "      <td>ushouasysw72v</td>\n",
       "      <td>4</td>\n",
       "      <td>SUCCESS</td>\n",
       "      <td>0</td>\n",
       "      <td>1603368340</td>\n",
       "      <td>2020/10/22 07:05:40</td>\n",
       "      <td>1603368183</td>\n",
       "      <td>1603368339</td>\n",
       "    </tr>\n",
       "  </tbody>\n",
       "</table>\n",
       "</div>"
      ],
      "text/plain": [
       "    JOID                          JOBName     RUNMachine  STATUS STATUSText  \\\n",
       "0  80288  PNC-EST-DATAMART-UPDATE-JOB-WID  ushouasysw72v       4    SUCCESS   \n",
       "\n",
       "   EXITCode  STATUSTime        STATUSTimestr   LASTStart     LASTEnd  \n",
       "0         0  1603368340  2020/10/22 07:05:40  1603368183  1603368339  "
      ]
     },
     "execution_count": 8,
     "metadata": {},
     "output_type": "execute_result"
    }
   ],
   "source": [
    "col_list = jobs_df.columns\n",
    "json_col_list = []\n",
    "for cur_col in col_list:\n",
    "    if \"_\" in cur_col:\n",
    "        cur_tokens = cur_col.split(\"_\")\n",
    "        final_col = cur_tokens[0].lower()\n",
    "        for cur_token in cur_tokens[1:]:\n",
    "            final_col += cur_token.capitalize()\n",
    "    else:\n",
    "        final_col = cur_col\n",
    "    json_col_list.append(final_col)    \n",
    "\n",
    "json_col_list\n",
    "\n",
    "jobs_df.columns = json_col_list\n",
    "jobs_df\n",
    "        "
   ]
  },
  {
   "cell_type": "code",
   "execution_count": 3,
   "metadata": {},
   "outputs": [
    {
     "name": "stdout",
     "output_type": "stream",
     "text": [
      "[2020-10-15 14:01:19] INFO: Extracting job list from live Autosys database ESTRDEV...\n",
      "[2020-10-15 14:01:19] INFO: Query: select * from entsched.est_bi_job_tree\n"
     ]
    },
    {
     "name": "stderr",
     "output_type": "stream",
     "text": [
      "C:\\ProgramData\\Anaconda3\\lib\\site-packages\\sqlalchemy\\dialects\\oracle\\base.py:1316: SAWarning: Oracle compatibility version (19, 0, 0, 0, 0) is known to have a maximum identifier length of 128, rather than the historical default of 30. SQLAlchemy 1.4 will use 128 for this database; please set max_identifier_length=128 in create_engine() in order to test the application with this new length, or set to 30 in order to assure that 30 continues to be used.  In particular, pay close attention to the behavior of database migrations as dynamically generated names may change. See the section 'Max Identifier Lengths' in the SQLAlchemy Oracle dialect documentation for background.\n",
      "  % ((self.server_version_info,))\n",
      "C:\\ProgramData\\Anaconda3\\lib\\site-packages\\sqlalchemy\\dialects\\oracle\\base.py:1273: SAWarning: Could not determine compatibility version: (cx_Oracle.DatabaseError) ORA-00942: table or view does not exist\n",
      "[SQL: SELECT value FROM v$parameter WHERE name = 'compatible']\n",
      "(Background on this error at: http://sqlalche.me/e/4xp6)\n",
      "  util.warn(\"Could not determine compatibility version: %s\" % err)\n"
     ]
    },
    {
     "name": "stdout",
     "output_type": "stream",
     "text": [
      "[2020-10-15 14:01:21] ERROR: There was an error extracting live info\n",
      "[2020-10-15 14:01:21] ERROR: Error message: (cx_Oracle.DatabaseError) ORA-00942: table or view does not exist\n",
      "[SQL: select * from entsched.est_bi_job_tree]\n",
      "(Background on this error at: http://sqlalche.me/e/4xp6)\n",
      "[2020-10-15 14:01:21] ERROR: *** Process has failed ***\n",
      "[2020-10-15 14:01:21] EXIT CODE: 20\n"
     ]
    },
    {
     "ename": "SystemExit",
     "evalue": "20",
     "output_type": "error",
     "traceback": [
      "An exception has occurred, use %tb to see the full traceback.\n",
      "\u001b[1;31mSystemExit\u001b[0m\u001b[1;31m:\u001b[0m 20\n"
     ]
    },
    {
     "name": "stderr",
     "output_type": "stream",
     "text": [
      "C:\\ProgramData\\Anaconda3\\lib\\site-packages\\IPython\\core\\interactiveshell.py:3334: UserWarning: To exit: use 'exit', 'quit', or Ctrl-D.\n",
      "  warn(\"To exit: use 'exit', 'quit', or Ctrl-D.\", stacklevel=1)\n"
     ]
    }
   ],
   "source": [
    "db_str = est._sqlalchemydbs[est.autoserv]['primary']\n",
    "\n",
    "est.est_info(f\"Extracting job list from live Autosys database {db_str['name']}...\")\n",
    "             \n",
    "read_sql = \"select * from entsched.est_bi_job_tree\"\n",
    "del_sql = \"truncate table est_bi_job_tree\"\n",
    "insert_sql = \"insert into est_bi_job_tree values (:1,:2,:3,:4,:5,:6,:7,:8,:9,:10,:11,:12,:13,:14,:15,:16)\"\n",
    "             \n",
    "\n",
    "est.est_i\n",
    "             nfo(f\"Query: {read_sql}\") \n",
    "             \n",
    "try:\n",
    "\n",
    "             \n",
    "             \n",
    "except Exception as e:             \n",
    "    est.est_error(\"There was an error extracting live info\")\n",
    "    est.est_error(f\"Error message: {e}\")\n",
    "    est.est_error(\"*** Process has failed ***\")\n",
    "    est.est_exit(20)\n",
    "                            \n",
    "est.est_info(f\"{jobs_df.shape[0]} jobs found!\")   \n",
    "                 \n",
    "est.est_info(\"Attempting to load to historical database..\")   \n",
    "                \n",
    "\n",
    "          \n",
    "del_sql = \"truncate table est_bi_job_tree\"           \n",
    "             \n",
    "                     \n",
    "try:\n",
    "    engine = create_engine(db_str['hist'])\n",
    "    conn = engine.connect() \n",
    "    est.est_info(\"    Deleting prior data....\")            \n",
    "    conn.execute(del_sql)      \n",
    "    est.est_info(\"    Adding today's list to history.....\")            \n",
    "    jobs_df.to_sql('EST_BI_JOB_TREE', conn, if_exists='append')      \n",
    "             \n",
    "    conn.close()         \n",
    "             \n",
    "except Exception as e:             \n",
    "    est.est_error(\"There was an error loading historical info\")\n",
    "    est.est_error(f\"Error message: {e}\")\n",
    "    est.est_error(\"*** Process has failed ***\")\n",
    "    est.est_exit(20)            \n",
    "             \n",
    "est.est_info(\"All done\")             \n",
    "             \n",
    "             \n"
   ]
  },
  {
   "cell_type": "code",
   "execution_count": null,
   "metadata": {},
   "outputs": [],
   "source": [
    "help(stale_df.to_sql)"
   ]
  }
 ],
 "metadata": {
  "kernelspec": {
   "display_name": "Python 3",
   "language": "python",
   "name": "python3"
  },
  "language_info": {
   "codemirror_mode": {
    "name": "ipython",
    "version": 3
   },
   "file_extension": ".py",
   "mimetype": "text/x-python",
   "name": "python",
   "nbconvert_exporter": "python",
   "pygments_lexer": "ipython3",
   "version": "3.7.9"
  }
 },
 "nbformat": 4,
 "nbformat_minor": 2
}
